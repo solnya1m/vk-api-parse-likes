{
 "cells": [
  {
   "cell_type": "code",
   "execution_count": 1,
   "id": "6d7f85fc-ff0b-4c12-a0e4-beda4ac21c90",
   "metadata": {},
   "outputs": [],
   "source": [
    "import requests\n",
    "import csv\n",
    "import json\n",
    "from datetime import datetime\n",
    "import time"
   ]
  },
  {
   "cell_type": "code",
   "execution_count": 2,
   "id": "4771829f-f2b3-4c4b-a692-7e47f9acb0db",
   "metadata": {},
   "outputs": [],
   "source": [
    "service_token = \"))\"  #сервисный токен, для конфеденциальности удалила после прогона кода\n",
    "domain = \"id267391840\" \n",
    "api_version = \"5.131\"\n",
    "output = \"vk_posts_statistics.csv\""
   ]
  },
  {
   "cell_type": "code",
   "execution_count": 6,
   "id": "79cefa7d-8713-454f-8858-de97dd6ba42b",
   "metadata": {},
   "outputs": [],
   "source": [
    "def get_wall_posts(domain, count=100):\n",
    "    url = \"https://api.vk.com/method/wall.get\"\n",
    "    params = {\n",
    "        'domain': domain,\n",
    "        'count': count,\n",
    "        'access_token': service_token,\n",
    "        'v': api_version,\n",
    "        'extended': 0\n",
    "    }\n",
    "    \n",
    "    response = requests.get(url, params=params)\n",
    "    data = response.json()\n",
    "    posts = data.get('response', {}).get('items', [])\n",
    "    return posts\n",
    "\n",
    "def parse_posts(posts):\n",
    "    parsed_data = []\n",
    "    \n",
    "    for post in posts:\n",
    "        if post.get('copy_history'):\n",
    "            continue\n",
    "            \n",
    "        post_date = datetime.fromtimestamp(post['date'])\n",
    "        likes_count = post.get('likes', {}).get('count', 0)\n",
    "        post_text = post.get('text', '')\n",
    "        \n",
    "        parsed_data.append({\n",
    "            'post_date': post_date.strftime('%Y-%m-%d %H:%M:%S'),\n",
    "            'likes_count': likes_count,\n",
    "            'post_text': post_text,\n",
    "            'hour': post_date.hour,\n",
    "            'day_of_week': post_date.strftime('%A'),\n",
    "            'weekday_number': post_date.weekday()\n",
    "        })\n",
    "    \n",
    "    return parsed_data\n",
    "\n",
    "def save_to_csv(data, filename):\n",
    "    with open(filename, 'w', newline='', encoding='utf-8-sig') as csvfile:  \n",
    "        fieldnames = ['post_date', 'likes_count', 'post_text', 'hour', 'day_of_week', 'weekday_number']\n",
    "        writer = csv.DictWriter(csvfile, fieldnames=fieldnames, quoting=csv.QUOTE_ALL)    \n",
    "        writer.writeheader()\n",
    "        for row in data:\n",
    "            writer.writerow(row)"
   ]
  },
  {
   "cell_type": "code",
   "execution_count": 9,
   "id": "69110a6b-b895-464f-9e8c-a2bf3aa9efa1",
   "metadata": {},
   "outputs": [],
   "source": [
    "posts = get_wall_posts(domain, count=100)\n",
    "parsed_data = parse_posts(posts)\n",
    "save_to_csv(parsed_data, output)"
   ]
  }
 ],
 "metadata": {
  "kernelspec": {
   "display_name": "Python 3 (ipykernel)",
   "language": "python",
   "name": "python3"
  },
  "language_info": {
   "codemirror_mode": {
    "name": "ipython",
    "version": 3
   },
   "file_extension": ".py",
   "mimetype": "text/x-python",
   "name": "python",
   "nbconvert_exporter": "python",
   "pygments_lexer": "ipython3",
   "version": "3.12.7"
  }
 },
 "nbformat": 4,
 "nbformat_minor": 5
}
